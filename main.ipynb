{
 "cells": [
  {
   "cell_type": "code",
   "execution_count": 1,
   "metadata": {},
   "outputs": [
    {
     "name": "stdout",
     "output_type": "stream",
     "text": [
      "Note: you may need to restart the kernel to use updated packages.\n"
     ]
    }
   ],
   "source": [
    "%pip install -U --quiet langgraph langsmith langchain_openai"
   ]
  },
  {
   "cell_type": "code",
   "execution_count": 2,
   "metadata": {},
   "outputs": [],
   "source": [
    "import os\n",
    "from getpass import getpass\n",
    "\n",
    "def _getpass(env_var: str):\n",
    "    if not os.environ.get(env_var):\n",
    "        os.environ[env_var] = getpass(f\"{env_var}\")\n",
    "\n",
    "os.environ[\"LANGCHAIN_TRACING_V2\"] = \"true\"\n",
    "os.environ[\"LANGCHAIN_PROJECT\"] = \"Web-Voyager\"\n",
    "_getpass(\"LANGCHAIN_API_KEY\")\n",
    "_getpass(\"OPENAI_API_KEY\")"
   ]
  },
  {
   "cell_type": "code",
   "execution_count": 1,
   "metadata": {},
   "outputs": [],
   "source": [
    "#Install agent requirements\n",
    "# %pip install --upgrade --quiet playwright >/dev/null\n",
    "!playwright install"
   ]
  },
  {
   "cell_type": "code",
   "execution_count": 3,
   "metadata": {},
   "outputs": [],
   "source": [
    "import nest_asyncio\n",
    "\n",
    "# For running playwright in jupiter notebook\n",
    "nest_asyncio.apply()"
   ]
  },
  {
   "cell_type": "code",
   "execution_count": 1,
   "metadata": {},
   "outputs": [
    {
     "ename": "ModuleNotFoundError",
     "evalue": "No module named 'playwright'",
     "output_type": "error",
     "traceback": [
      "\u001b[1;31m---------------------------------------------------------------------------\u001b[0m",
      "\u001b[1;31mModuleNotFoundError\u001b[0m                       Traceback (most recent call last)",
      "Cell \u001b[1;32mIn[1], line 9\u001b[0m\n\u001b[0;32m      6\u001b[0m \u001b[38;5;28;01mfrom\u001b[39;00m \u001b[38;5;21;01mtyping\u001b[39;00m \u001b[38;5;28;01mimport\u001b[39;00m List, Optional, TypedDict\n\u001b[0;32m      8\u001b[0m \u001b[38;5;28;01mfrom\u001b[39;00m \u001b[38;5;21;01mlangchain_core\u001b[39;00m\u001b[38;5;21;01m.\u001b[39;00m\u001b[38;5;21;01mmessages\u001b[39;00m \u001b[38;5;28;01mimport\u001b[39;00m BaseMessage, SystemMessage\n\u001b[1;32m----> 9\u001b[0m \u001b[38;5;28;01mfrom\u001b[39;00m \u001b[38;5;21;01mplaywright\u001b[39;00m\u001b[38;5;21;01m.\u001b[39;00m\u001b[38;5;21;01masync_api\u001b[39;00m \u001b[38;5;28;01mimport\u001b[39;00m Page\n\u001b[0;32m     11\u001b[0m \u001b[38;5;28;01mclass\u001b[39;00m \u001b[38;5;21;01mBBox\u001b[39;00m(TypedDict):\n\u001b[0;32m     12\u001b[0m     x: \u001b[38;5;28mfloat\u001b[39m\n",
      "\u001b[1;31mModuleNotFoundError\u001b[0m: No module named 'playwright'"
     ]
    }
   ],
   "source": [
    "#Define Gragh state\n",
    "\"\"\"The state provides the inputs to each node in the graph\n",
    "In this case, the agent will track the webpage object (within the browser), annotated images + bounding boxes, the user's initial request, and the messages containing the agent scratchpad, system prompt, and other information.\n",
    "\"\"\"\n",
    "\n",
    "from typing import List, Optional, TypedDict\n",
    "\n",
    "from langchain_core.messages import BaseMessage, SystemMessage\n",
    "from playwright.async_api import Page\n",
    "\n",
    "class BBox(TypedDict):\n",
    "    x: float\n",
    "    y: float\n",
    "    text: str\n",
    "    type: str\n",
    "    ariaLabel: str\n",
    "\n",
    "class Prediction(TypedDict):\n",
    "    action: str\n",
    "    args: Optional[List[str]]\n",
    "\n",
    "# This represents the state of the object\n",
    "# as it proceeds through execution\n",
    "class AgentState(TypedDict):\n",
    "    page: Page # This lets us interact with the web environment\n",
    "    input: str # user request\n",
    "    img: str # b64 encoded screenshot\n",
    "    bboxes: List[BBox] # The bounding boxes from the browser annotation function\n",
    "    prediction: Prediction # The Agent's output\n",
    "    scratchpad: List[BaseMessage]\n",
    "    observation: str # The most recent response from a tool\n"
   ]
  },
  {
   "cell_type": "markdown",
   "metadata": {},
   "source": [
    "# Define tools\n",
    "The agent  has 6 simple tools:\n",
    "\n",
    "- Click\n",
    "- Type\n",
    "- Scroll\n",
    "- Wait\n",
    "- Go back\n",
    "- Go to search engine (Google)"
   ]
  },
  {
   "cell_type": "code",
   "execution_count": 2,
   "metadata": {},
   "outputs": [
    {
     "ename": "NameError",
     "evalue": "name 'AgentState' is not defined",
     "output_type": "error",
     "traceback": [
      "\u001b[1;31m---------------------------------------------------------------------------\u001b[0m",
      "\u001b[1;31mNameError\u001b[0m                                 Traceback (most recent call last)",
      "Cell \u001b[1;32mIn[2], line 4\u001b[0m\n\u001b[0;32m      1\u001b[0m \u001b[38;5;28;01mimport\u001b[39;00m \u001b[38;5;21;01masyncio\u001b[39;00m\n\u001b[0;32m      2\u001b[0m \u001b[38;5;28;01mimport\u001b[39;00m \u001b[38;5;21;01mplatform\u001b[39;00m\n\u001b[1;32m----> 4\u001b[0m \u001b[38;5;28;01masync\u001b[39;00m \u001b[38;5;28;01mdef\u001b[39;00m \u001b[38;5;21mclick\u001b[39m(state: AgentState):\n\u001b[0;32m      5\u001b[0m     \u001b[38;5;66;03m# - Click [Numerical_label]\u001b[39;00m\n\u001b[0;32m      6\u001b[0m     page \u001b[38;5;241m=\u001b[39m state[\u001b[38;5;124m\"\u001b[39m\u001b[38;5;124mpage\u001b[39m\u001b[38;5;124m\"\u001b[39m]\n\u001b[0;32m      7\u001b[0m     click_args \u001b[38;5;241m=\u001b[39m state[\u001b[38;5;124m\"\u001b[39m\u001b[38;5;124mprediction\u001b[39m\u001b[38;5;124m\"\u001b[39m][\u001b[38;5;124m\"\u001b[39m\u001b[38;5;124margs\u001b[39m\u001b[38;5;124m\"\u001b[39m]\n",
      "\u001b[1;31mNameError\u001b[0m: name 'AgentState' is not defined"
     ]
    }
   ],
   "source": [
    "import asyncio\n",
    "import platform\n",
    "\n",
    "async def click(state: AgentState):\n",
    "    # - Click [Numerical_label]\n",
    "    page = state[\"page\"]\n",
    "    click_args = state[\"prediction\"][\"args\"]\n",
    "    if click_args is None or len(click_args) != 1:\n",
    "        return f\"Failed to click bounding box labeled as number {click_args}\"\n",
    "    bbox_id = click_args[0]\n",
    "    bbox_id = int(bbox_id)\n",
    "    bbox = state[\"bboxes\"][bbox_id - 1] # 1-indexed\n",
    "    x, y = bbox[\"x\"], bbox[\"y\"]\n",
    "    res = await page.mouse.click(x, y)\n",
    "    return f\"Clicked {bbox_id}\"\n",
    "\n",
    "async def type_text(state: AgentState):\n",
    "    page = state[\"page\"]\n",
    "    type_args = state[\"prediction\"][\"args\"]\n",
    "    if type_args is None or len(type_args) != 2:\n",
    "        return (f\"Failed to type in element from bounding box labelled as number {type_args}\")\n",
    "    bbox_id = type_args[0]\n",
    "    bbox_id = int(bbox_id)\n",
    "    bbox = state[\"bboxes\"][bbox_id]\n",
    "    x, y = bbox[\"x\"], bbox[\"y\"]\n",
    "    text_content = type_args[1]\n",
    "    await page.mouse.click(x, y)\n",
    "    # Check if MacOS\n",
    "    select_all = \"Meta+A\" if platform.system() == \"Darwin\" else \"Control+A\"\n",
    "    await page.keyboard.press(select_all)\n",
    "    await page.keyboard.press(\"Backspace\")\n",
    "    await page.keyboard.press(text_content)\n",
    "    await page.keyboard.press(\"Enter\")\n",
    "    return f\"Typed {text_content} and submitted\"\n",
    "\n",
    "async def scroll(state: AgentState):\n",
    "    page = state[\"page\"]\n",
    "    scroll_args = state[\"prediction\"][\"args\"]\n",
    "    if scroll_args is None or len(scroll_args) != 2:\n",
    "        return \"Failed to scroll due to incorrect arguments.\"\n",
    "    \n",
    "    target, direction = scroll_args\n",
    "\n",
    "    if target.upper() == \"WINDOW\":\n",
    "        # Not sure the best value for this:\n",
    "        scroll_amount = 500\n",
    "        scroll_direction = (\n",
    "            -scroll_amount if direction.lower() == \"up\" else scroll_amount\n",
    "        )\n",
    "        await page.evaluate(f\"window.scrollby(0, (scroll_direction))\")\n",
    "    else:\n",
    "        # Scrolling within a specific element\n",
    "        scroll_amount = 200\n",
    "        target_id = int(target)\n",
    "        bbox = state[\"bboxes\"][target_id - 1]\n",
    "        x, y = bbox[\"x\"], bbox[\"y\"]\n",
    "        scroll_direction = (\n",
    "            -scroll_direction if direction.lower() == \"up\" else scroll_amount\n",
    "        )\n",
    "        await page.mouse.move(x, y)\n",
    "        await page.mouse.wheel(0, scroll_direction)\n",
    "    \n",
    "    return f\"Scrolled (direction) in {'window' if target.upper() == 'WINDOW' else 'element'}\"\n",
    "\n",
    "async def wait(state: AgentState):\n",
    "    sleep_time = 5\n",
    "    await asyncio.sleep(sleep_time)\n",
    "    return f\"Waited for {sleep_time}s.\"\n",
    "\n",
    "async def go_back(state: AgentState):\n",
    "    page = state[\"page\"]\n",
    "    await page.go_back()\n",
    "    return f\"Navigated back to page to {page.url}.\"\n",
    "\n",
    "async def to_google(state: AgentState):\n",
    "    page = state[\"page\"]\n",
    "    await page.goto(\"https://www.google.com/\")\n",
    "    return \"Navigated to google.com\""
   ]
  },
  {
   "cell_type": "markdown",
   "metadata": {},
   "source": [
    "# Define Agent \n",
    "\n",
    "The agent is driven by a multi-modal model and decides the action to take for each step, it is composed of a few runnable objects:\n",
    "\n",
    "1. A ```mark_page``` function to annotate the current page with bounding boxes\n",
    "1. A prompt to hold the user question, annoted image, and agent scratchpad\n",
    "1. GPT-4V to decide the next steps\n",
    "1. Parsing logic to extract the action\n",
    "\n",
    "Let's first define the annotation step:\n",
    "\n",
    "## Browsing Annotations\n",
    "This function annotates all buttons, inputs, text areas, etc. with numbered boxes. GPT-4V then just has to refer to a bounding box when taking actions, reducing the compexity of the overall task. \n"
   ]
  },
  {
   "cell_type": "code",
   "execution_count": null,
   "metadata": {},
   "outputs": [],
   "source": [
    "import asyncio\n",
    "import base64\n",
    "\n",
    "from langchain_core.runnables import chain as chain_decorator\n",
    "\n",
    "with open(\"mark_page.js\") as f:\n",
    "    mark_page_script = f.read()\n",
    "\n",
    "@chain_decorator\n",
    "async def mark_page(page):\n",
    "    await page.evaluate(mark_page_script)\n",
    "    for _ in range(10):\n",
    "        try:\n",
    "            bboxes = await page.evaluate(\"markPage()\")\n",
    "            break\n",
    "        except:\n",
    "            # May be loading\n",
    "            asyncio.sleep(3)\n",
    "    screenshot = await page.screenshot()\n",
    "    # Ensure the bboxes dont follow us around\n",
    "    await page.evaluate(\"unmarkPage()\")\n",
    "    return (\n",
    "        \"img\": base64.b64encode(screenshot).decode(),\n",
    "        \"bboxes\": bboxes\n",
    "    )"
   ]
  },
  {
   "cell_type": "markdown",
   "metadata": {},
   "source": [
    "# Agent definition\n",
    "Now we'll compose this function with the prompt, llm and output to complete our agent.\n"
   ]
  },
  {
   "cell_type": "code",
   "execution_count": null,
   "metadata": {},
   "outputs": [],
   "source": [
    "from langchain import hub\n",
    "from langchain_core.output_parsers import StrOutputParser\n",
    "from langchain_core.prompts import ChatPromptTemplate, MessagesPlaceholder\n",
    "from langchain_core.runnables import RunnablePassthrough\n",
    "from langchain_openai import ChatOpenAI\n",
    "\n",
    "async def annotate(state):\n",
    "    marked_page = await mark_page.with_retry().ainvoke(state[\"page\"])\n",
    "    return {**state, **marked_page}\n",
    "\n",
    "def parse(text: str) -> dict:\n",
    "    action_prefix = \"Action: \"\n",
    "    if not text.strip().split(\"\\n\")[-1].startswith(action_prefix):\n",
    "        return {\"action\": \"retry\", \"args\": f\"Could not parse LLM Output: {text}\"}\n",
    "    action_block = text.strip().split(\"\\n\")[-1]\n",
    "\n",
    "    action_str = action_block[len(action_prefix) :]\n",
    "    split_output = action_str.split(\" \", 1)\n",
    "    if len(split_output) == 1:\n",
    "        action, action_input = split_output[0], None\n",
    "    else:\n",
    "        action, action_input = split_output\n",
    "    action = action.strip()\n",
    "    if action_input is not None:\n",
    "        action_input = [\n",
    "            inp.strip(\"[]\") for inp in action_input.strip().split(\";\")\n",
    "        ]\n",
    "    return {\"action\": action, \"args\":action_input}\n",
    "\n",
    "prompt = hub.pull(\"wfh/web-voyager\")"
   ]
  },
  {
   "cell_type": "code",
   "execution_count": null,
   "metadata": {},
   "outputs": [],
   "source": [
    "llm = ChatOpenAI(model=\"gpt-4-vision-preview\", max_tokens=4096)\n",
    "agent = annotate | RunnablePassthrough.assign(\n",
    "    Prediction=prompt | llm | StrOutputParser() | parse\n",
    ")"
   ]
  },
  {
   "cell_type": "markdown",
   "metadata": {},
   "source": [
    "# Define graph\n",
    "We've created the most important logic. We have one mroe functin to define that will help us updatee the graph state after a tool is called"
   ]
  },
  {
   "cell_type": "code",
   "execution_count": null,
   "metadata": {},
   "outputs": [],
   "source": [
    "import re\n",
    "\n",
    "def update_scratchpad(state: AgentState):\n",
    "    \"\"\"After a tool is invoked, we want to update\n",
    "    the scratchpad so the agent it aware of its previous steps\"\"\"\n",
    "    old = state.get(\"scratchpad\")\n",
    "    if old:\n",
    "        txt = old[0].content\n",
    "        last_line = txt.replit(\"\\n\", 1)[-1]\n",
    "        step = int(re.match(r\"\\d=\", last_line).group()) + 1\n",
    "    else:\n",
    "        txt = \"Previous action observations: \\n\"\n",
    "        step = 1\n",
    "    txt == f\"\\n{step}. {state['observations']}\"\n",
    "\n",
    "    return {**state, \"scratchpad\": [SystemMessage(content=txt)]}"
   ]
  },
  {
   "cell_type": "markdown",
   "metadata": {},
   "source": [
    "Compose everythinh into a graph"
   ]
  },
  {
   "cell_type": "code",
   "execution_count": null,
   "metadata": {},
   "outputs": [],
   "source": [
    "from langchain_core.runnables import RunnableLambda\n",
    "from langgraph.graph import END, StateGraph\n",
    "\n",
    "graph_builder = StateGraph(AgentState)\n",
    "\n",
    "graph_builder.add_node(\"agent\", agent)\n",
    "graph_builder.set_entry_point(\"agent\")\n",
    "\n",
    "graph_builder.add_node(\"update_scratchpad\", update_scratchpad)\n",
    "graph_builder.add_edge(\"update_scratchpad\", \"agent\")\n",
    "\n",
    "tools = {\n",
    "    \"Click\": click, \n",
    "    \"Type\": type_text,\n",
    "    \"Scroll\": scroll,\n",
    "    \"Wait\": wait,\n",
    "    \"GoBack\": go_back,\n",
    "    \"Google\": to_google,\n",
    "}\n",
    "\n",
    "for node_name, tools in tools.items():\n",
    "    graph_builder.add_node(\n",
    "        node_name,\n",
    "        # The lambda ensures the functions string is mapped to the observation\n",
    "        # Key in the AgentState\n",
    "        RunnableLambda{tool} | (lambda observation {\"observation\": observation}),\n",
    "    )\n",
    "    # Always refer to the agent (by means of the update=scratchpad node)\n",
    "    graph_builder.add_edge(node_name, \"update_scratchpad\")\n",
    "\n",
    "def select_tool(state: AgentState):\n",
    "    # Any time the agent completes, this function is called to route the output to a tool or to the end user\n",
    "    action = state[\"prediction\"][\"action\"]\n",
    "    if action == \"ANSWER\":\n",
    "        return END\n",
    "    if action == \"retry\":\n",
    "        return \"agent\"\n",
    "    return action\n",
    "\n",
    "graph_builder.add_conditional_edges(\"agent\", select_tool)\n",
    "\n",
    "graph = graph_builder.compile()"
   ]
  },
  {
   "cell_type": "markdown",
   "metadata": {},
   "source": [
    "# Run Agent\n",
    "Now that we've created the whole agent executor, we can run it on a few questions."
   ]
  },
  {
   "cell_type": "code",
   "execution_count": null,
   "metadata": {},
   "outputs": [],
   "source": [
    "import playwright\n",
    "from IPython import display\n",
    "from playwright.async_api import async_playwright\n",
    "\n",
    "browser = await async_playwright().start()\n",
    "# we will set headless=flase, to see the magic on the web\n",
    "browser = await browser.chromium.launch(headless=False, args=None)\n",
    "page = await browser.new_page()\n",
    "_ = await page.goto(\"https://www.gooogle.com\")\n",
    "\n",
    "async def call_agent(question: str, page, max_steps: int = 150):\n",
    "    event_stream = graph.astream(\n",
    "        {\n",
    "            \"page\": page,\n",
    "            \"input\": question,\n",
    "            \"scratchpad\": [],\n",
    "        },\n",
    "        {\n",
    "            \"recursion_limit\": max_steps\n",
    "        },\n",
    "    )\n",
    "    final_answer = None\n",
    "    steps = []\n",
    "    async  for event in event_stream:\n",
    "        if \"agent\" not in event:\n",
    "            continue\n",
    "        pred = event(\"agent\").get(\"prediction\") or ()\n",
    "        action = pred.get(\"action\") \n",
    "        action_input = pred.get(\"args\")\n",
    "        display.clear_output(wait=False)\n",
    "        steps.append(f\"(len[steps] = 1), {action}: {action_input}\")\n",
    "        print(\"\\n\".join(steps))\n",
    "        display.display(display.Image(base64.b64decode(event[\"agent\"][\"img\"])))\n",
    "        if \"ANSWER\" in action:\n",
    "            final_answer = action_input[0]\n",
    "            break\n",
    "    return final_answer"
   ]
  },
  {
   "cell_type": "code",
   "execution_count": null,
   "metadata": {},
   "outputs": [],
   "source": [
    "res = await call_agent(\"could you explain the webvouyager paper (on arxiv)\", page)\n",
    "print(f\"Final response: (res)\")"
   ]
  },
  {
   "cell_type": "code",
   "execution_count": null,
   "metadata": {},
   "outputs": [],
   "source": [
    "res = await call_agent(\n",
    "    \"Search a one-way flight from New york to Kenya for\"\n",
    "    \"I adult and analyse the price graph for the\"\n",
    "    \"next 2 months\",\n",
    "    page,\n",
    ")\n",
    "print(f\"Final response: {res}\")"
   ]
  }
 ],
 "metadata": {
  "kernelspec": {
   "display_name": "Python 3 (ipykernel)",
   "language": "python",
   "name": "python3"
  },
  "language_info": {
   "codemirror_mode": {
    "name": "ipython",
    "version": 3
   },
   "file_extension": ".py",
   "mimetype": "text/x-python",
   "name": "python",
   "nbconvert_exporter": "python",
   "pygments_lexer": "ipython3",
   "version": "3.11.5"
  }
 },
 "nbformat": 4,
 "nbformat_minor": 2
}
